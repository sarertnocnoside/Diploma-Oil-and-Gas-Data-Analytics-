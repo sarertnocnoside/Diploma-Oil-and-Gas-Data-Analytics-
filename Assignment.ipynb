{
 "cells": [
  {
   "cell_type": "markdown",
   "id": "a292cf7a",
   "metadata": {},
   "source": [
    "## 1) Well Production Data (List, Tuples, Dictionaries, Loops, Conditionals)"
   ]
  },
  {
   "cell_type": "markdown",
   "id": "ffcd1a0d",
   "metadata": {},
   "source": [
    "1. Well Production Data (List and For Loop)   \n",
    "You have daily oil production data for one week from Well-A:\n",
    "* Calculate the average weekly production\n",
    "* Display all day where production was above 100 barrels/day."
   ]
  },
  {
   "cell_type": "code",
   "execution_count": 43,
   "id": "2800c107",
   "metadata": {},
   "outputs": [],
   "source": [
    "production = [1050, 980, 1025, 1100, 975, 990, 1005]"
   ]
  },
  {
   "cell_type": "code",
   "execution_count": 44,
   "id": "0ad20d0a",
   "metadata": {},
   "outputs": [
    {
     "name": "stdout",
     "output_type": "stream",
     "text": [
      "The average production weekly production 1017.9 bpd\n"
     ]
    }
   ],
   "source": [
    "total_prod = 0\n",
    "\n",
    "for i in production:\n",
    "     total_prod += i\n",
    "aver_prod = total_prod / len(production)\n",
    "\n",
    "print(f\"The average production weekly production {round(aver_prod, 1)} bpd\")\n"
   ]
  },
  {
   "cell_type": "code",
   "execution_count": 54,
   "id": "f4263ff3",
   "metadata": {},
   "outputs": [
    {
     "name": "stdout",
     "output_type": "stream",
     "text": [
      "day 1: production was 1050 barrels\n",
      "day 2: production was 980 barrels\n",
      "day 3: production was 1025 barrels\n",
      "day 4: production was 1100 barrels\n",
      "day 5: production was 975 barrels\n",
      "day 6: production was 990 barrels\n",
      "day 7: production was 1005 barrels\n"
     ]
    }
   ],
   "source": [
    "for i in range(len(production)):\n",
    "    if production[i] > 100:\n",
    "        print(f\"day {i+1}: production was {production[i]} barrels\")\n"
   ]
  },
  {
   "cell_type": "markdown",
   "id": "7930284d",
   "metadata": {},
   "source": [
    "## 2) Formation Properties (Tuples):"
   ]
  },
  {
   "cell_type": "markdown",
   "id": "bc02967b",
   "metadata": {},
   "source": [
    "Define a tuple containing the following formation properties: ('Porosity', 0.21), ('Permeability', 150), ('Formation Thickness', 30)   \n",
    "Write a function that takes this tuple and prints it in a readable format"
   ]
  },
  {
   "cell_type": "code",
   "execution_count": null,
   "id": "f25ded65",
   "metadata": {},
   "outputs": [],
   "source": [
    "formation_properties = (\n",
    "    ('Porosity', 0.21),\n",
    "    ('Permeability', 150),\n",
    "    ('Formation Thickness', 30))"
   ]
  },
  {
   "cell_type": "code",
   "execution_count": 229,
   "id": "4f5ac4a1",
   "metadata": {},
   "outputs": [],
   "source": [
    "def print_fp (properties):\n",
    "    print(\"Formation_ properties:\")\n",
    "    for name, value in formation_properties:\n",
    "        print(f'{name}: {value}')"
   ]
  },
  {
   "cell_type": "code",
   "execution_count": 230,
   "id": "4fd1a26f",
   "metadata": {},
   "outputs": [
    {
     "name": "stdout",
     "output_type": "stream",
     "text": [
      "Formation_ properties:\n",
      "Porosity: 0.21\n",
      "Permeability: 150\n",
      "Formation Thickness: 30\n"
     ]
    }
   ],
   "source": [
    "print_fp(formation_properties)"
   ]
  },
  {
   "cell_type": "markdown",
   "id": "dda2bfd8",
   "metadata": {},
   "source": [
    "# 3) Well Dictionary (Dictionary and if-else):\n"
   ]
  },
  {
   "cell_type": "markdown",
   "id": "3f021f68",
   "metadata": {},
   "source": [
    "Create a dictionary storing the following well info:\n",
    "well_info = {'Well_name': 'B-25', 'Status':'Active','Depth_m':3200, 'Reservoir': Sandstone}\n",
    "\n",
    "- Check if the well is active\n",
    "- Print a custom message \"Well B-25 is currently active in Sandstone formation\""
   ]
  },
  {
   "cell_type": "code",
   "execution_count": 71,
   "id": "feea4752",
   "metadata": {},
   "outputs": [],
   "source": [
    "well_info = {'Well_name': 'B-25',\n",
    "             'Status':'Active',\n",
    "             'Depth_m':3200,\n",
    "             'Reservoir': 'Sandstone'\n",
    "             }"
   ]
  },
  {
   "cell_type": "code",
   "execution_count": 74,
   "id": "f95fe104",
   "metadata": {},
   "outputs": [
    {
     "name": "stdout",
     "output_type": "stream",
     "text": [
      "Well B-25 is currently Active\n"
     ]
    }
   ],
   "source": [
    "if well_info['Status'] == 'Active':\n",
    "    print(f'Well {well_info['Well_name']} is currently {well_info['Status']}')"
   ]
  },
  {
   "cell_type": "code",
   "execution_count": 75,
   "id": "99c6985d",
   "metadata": {},
   "outputs": [
    {
     "name": "stdout",
     "output_type": "stream",
     "text": [
      "Well B-25 is currently Active in a Sandstone\n"
     ]
    }
   ],
   "source": [
    "print(f\"Well {well_info['Well_name']} is currently {well_info['Status']} in a {well_info['Reservoir']}\")"
   ]
  },
  {
   "cell_type": "markdown",
   "id": "0a952bba",
   "metadata": {},
   "source": [
    "# 4) Calculate Oil in Place (Function)"
   ]
  },
  {
   "cell_type": "markdown",
   "id": "a7734595",
   "metadata": {},
   "source": [
    "Write a function to calculate OOIP using:\n",
    "OOIP = (7758 * A * h * phi * (1 - Sw)) / Bo\n",
    "Inputs: A=500, h=30, phi=0.2, Sw=0.25, Bo=1.2"
   ]
  },
  {
   "cell_type": "code",
   "execution_count": 97,
   "id": "f7a9cb11",
   "metadata": {},
   "outputs": [
    {
     "name": "stdout",
     "output_type": "stream",
     "text": [
      "The OOIP is 14546250.0 STB\n"
     ]
    }
   ],
   "source": [
    "def Calc_OOIP(A, h, phi, Sw, Bo):\n",
    "    OOIP = 7758 * A * h * phi * (1 - Sw) / Bo\n",
    "    return OOIP\n",
    "\n",
    "A = 500\n",
    "h = 30\n",
    "phi = 0.2\n",
    "Sw = 0.25\n",
    "Bo = 1.2\n",
    "\n",
    "result = Calc_OOIP(A, h, phi, Sw, Bo)\n",
    "\n",
    "print(f'The OOIP is {round(result,2)} STB')\n"
   ]
  },
  {
   "cell_type": "markdown",
   "id": "b49b42fc",
   "metadata": {},
   "source": [
    "# 5) Cumulative Production (While Loop)"
   ]
  },
  {
   "cell_type": "markdown",
   "id": "52dd9ebf",
   "metadata": {},
   "source": [
    "Write a program to take user input until -1 is entered\n",
    "- Calculate total cumulative oil produced\n",
    "- Print average daily production"
   ]
  },
  {
   "cell_type": "code",
   "execution_count": 109,
   "id": "c4640a9d",
   "metadata": {},
   "outputs": [
    {
     "name": "stdout",
     "output_type": "stream",
     "text": [
      "Cumulative oil produced is 268.0 bdp\n"
     ]
    }
   ],
   "source": [
    "total_production= 0\n",
    "day_count= 0\n",
    "\n",
    "production = float(input('Daily production is: '))\n",
    "\n",
    "while production!= -1:\n",
    "    total_production += production\n",
    "    day_count += 1\n",
    "    production = float(input('Daily production is: '))\n",
    "    \n",
    "print(f'Cumulative oil produced is {total_production} bdp')"
   ]
  },
  {
   "cell_type": "code",
   "execution_count": 110,
   "id": "89f83282",
   "metadata": {},
   "outputs": [
    {
     "name": "stdout",
     "output_type": "stream",
     "text": [
      "average daily production is 33.5\n"
     ]
    }
   ],
   "source": [
    "if day_count > 0:\n",
    "    promedio = total_production / day_count\n",
    "    print(f'average daily production is {promedio}')\n",
    "else:\n",
    "    print('no se ingresaron datos')\n"
   ]
  },
  {
   "cell_type": "markdown",
   "id": "0916ab8f",
   "metadata": {},
   "source": [
    "# 6) Numpy for Pressure Data"
   ]
  },
  {
   "cell_type": "code",
   "execution_count": 192,
   "id": "57e4a4ba",
   "metadata": {},
   "outputs": [
    {
     "name": "stdout",
     "output_type": "stream",
     "text": [
      "Requirement already satisfied: pandas in c:\\users\\edison\\appdata\\local\\programs\\python\\python312\\lib\\site-packages (2.2.3)\n",
      "Requirement already satisfied: numpy>=1.26.0 in c:\\users\\edison\\appdata\\local\\programs\\python\\python312\\lib\\site-packages (from pandas) (2.2.5)\n",
      "Requirement already satisfied: python-dateutil>=2.8.2 in c:\\users\\edison\\appdata\\roaming\\python\\python312\\site-packages (from pandas) (2.9.0.post0)\n",
      "Requirement already satisfied: pytz>=2020.1 in c:\\users\\edison\\appdata\\local\\programs\\python\\python312\\lib\\site-packages (from pandas) (2025.2)\n",
      "Requirement already satisfied: tzdata>=2022.7 in c:\\users\\edison\\appdata\\local\\programs\\python\\python312\\lib\\site-packages (from pandas) (2025.2)\n",
      "Requirement already satisfied: six>=1.5 in c:\\users\\edison\\appdata\\roaming\\python\\python312\\site-packages (from python-dateutil>=2.8.2->pandas) (1.17.0)\n",
      "Note: you may need to restart the kernel to use updated packages.\n"
     ]
    },
    {
     "name": "stderr",
     "output_type": "stream",
     "text": [
      "\n",
      "[notice] A new release of pip is available: 24.2 -> 25.1.1\n",
      "[notice] To update, run: python.exe -m pip install --upgrade pip\n"
     ]
    }
   ],
   "source": [
    "%pip install pandas"
   ]
  },
  {
   "cell_type": "markdown",
   "id": "43d3cea8",
   "metadata": {},
   "source": [
    "Numpy for Presure Data:   \n",
    "pressure = np.array([3500, 3450, 3400, 3350, 3300])   \n",
    " - Find pressure drop per interval.\n",
    " - Calculate average pressure"
   ]
  },
  {
   "cell_type": "code",
   "execution_count": 140,
   "id": "655eb709",
   "metadata": {},
   "outputs": [],
   "source": [
    "import numpy as np\n",
    "pressure = np.array([3500, 3450, 3400, 3350, 3300])"
   ]
  },
  {
   "cell_type": "code",
   "execution_count": 124,
   "id": "49985fcd",
   "metadata": {},
   "outputs": [
    {
     "name": "stdout",
     "output_type": "stream",
     "text": [
      "50\n",
      "50\n"
     ]
    }
   ],
   "source": [
    "interval1= pressure[0] - pressure[1]\n",
    "interval2= pressure[1] - pressure[2]\n",
    "print(interval1)\n",
    "print(interval2)"
   ]
  },
  {
   "cell_type": "code",
   "execution_count": 149,
   "id": "e6cdbc41",
   "metadata": {},
   "outputs": [
    {
     "name": "stdout",
     "output_type": "stream",
     "text": [
      "in interval 1 drop pressure is -50 psi\n",
      "in interval 2 drop pressure is -50 psi\n",
      "in interval 3 drop pressure is -50 psi\n",
      "in interval 4 drop pressure is -50 psi\n"
     ]
    }
   ],
   "source": [
    "drop = []\n",
    "for i in range(len(pressure)-1): \n",
    "\n",
    "    drop.append(pressure[i+1] - pressure[i])\n",
    "\n",
    "    print(f'in interval {i+1} drop pressure is {drop[i]} psi')"
   ]
  },
  {
   "cell_type": "code",
   "execution_count": 158,
   "id": "da8d479e",
   "metadata": {},
   "outputs": [
    {
     "name": "stdout",
     "output_type": "stream",
     "text": [
      "Average pressure is 3400.0 psi\n"
     ]
    }
   ],
   "source": [
    "average_p= np.average(pressure)\n",
    "print(f'Average pressure is {round(average_p,1)} psi')"
   ]
  },
  {
   "cell_type": "markdown",
   "id": "1938864a",
   "metadata": {},
   "source": [
    "# 7) Pandas for Well Logs"
   ]
  },
  {
   "cell_type": "markdown",
   "id": "a1b8ea63",
   "metadata": {},
   "source": [
    "data = {\n",
    " 'Depth_ft': [1000, 1010, 1020, 1030, 1040],\n",
    " 'GR_API': [80, 75, 78, 82, 77],\n",
    " 'RT_ohm_m': [20, 25, 22, 19, 23]\n",
    " }\n",
    " \n",
    " - Convert to DataFrame.\n",
    " - Calculate GR and RT mean.\n",
    " - Add 'Lithology' column: if GR < 80 -> 'Sandstone', else 'Shale'.\n"
   ]
  },
  {
   "cell_type": "code",
   "execution_count": 163,
   "id": "1ac50369",
   "metadata": {},
   "outputs": [
    {
     "name": "stdout",
     "output_type": "stream",
     "text": [
      "Collecting pandas\n",
      "  Downloading pandas-2.2.3-cp312-cp312-win_amd64.whl.metadata (19 kB)\n",
      "Requirement already satisfied: numpy>=1.26.0 in c:\\users\\edison\\appdata\\local\\programs\\python\\python312\\lib\\site-packages (from pandas) (2.2.5)\n",
      "Requirement already satisfied: python-dateutil>=2.8.2 in c:\\users\\edison\\appdata\\roaming\\python\\python312\\site-packages (from pandas) (2.9.0.post0)\n",
      "Collecting pytz>=2020.1 (from pandas)\n",
      "  Downloading pytz-2025.2-py2.py3-none-any.whl.metadata (22 kB)\n",
      "Collecting tzdata>=2022.7 (from pandas)\n",
      "  Downloading tzdata-2025.2-py2.py3-none-any.whl.metadata (1.4 kB)\n",
      "Requirement already satisfied: six>=1.5 in c:\\users\\edison\\appdata\\roaming\\python\\python312\\site-packages (from python-dateutil>=2.8.2->pandas) (1.17.0)\n",
      "Downloading pandas-2.2.3-cp312-cp312-win_amd64.whl (11.5 MB)\n",
      "   ---------------------------------------- 0.0/11.5 MB ? eta -:--:--\n",
      "   --- ------------------------------------ 1.0/11.5 MB 10.1 MB/s eta 0:00:02\n",
      "   ---------------------------------------  11.3/11.5 MB 37.2 MB/s eta 0:00:01\n",
      "   ---------------------------------------- 11.5/11.5 MB 34.3 MB/s eta 0:00:00\n",
      "Downloading pytz-2025.2-py2.py3-none-any.whl (509 kB)\n",
      "Downloading tzdata-2025.2-py2.py3-none-any.whl (347 kB)\n",
      "Installing collected packages: pytz, tzdata, pandas\n",
      "Successfully installed pandas-2.2.3 pytz-2025.2 tzdata-2025.2\n",
      "Note: you may need to restart the kernel to use updated packages.\n"
     ]
    },
    {
     "name": "stderr",
     "output_type": "stream",
     "text": [
      "\n",
      "[notice] A new release of pip is available: 24.2 -> 25.1.1\n",
      "[notice] To update, run: python.exe -m pip install --upgrade pip\n"
     ]
    }
   ],
   "source": [
    "%pip install pandas"
   ]
  },
  {
   "cell_type": "code",
   "execution_count": 169,
   "id": "4103e1af",
   "metadata": {},
   "outputs": [],
   "source": [
    "import pandas as pd"
   ]
  },
  {
   "cell_type": "code",
   "execution_count": 165,
   "id": "798f8461",
   "metadata": {},
   "outputs": [],
   "source": [
    "data = {\n",
    " 'Depth_ft': [1000, 1010, 1020, 1030, 1040],\n",
    " 'GR_API': [80, 75, 78, 82, 77],\n",
    " 'RT_ohm_m': [20, 25, 22, 19, 23]\n",
    " }"
   ]
  },
  {
   "cell_type": "code",
   "execution_count": 168,
   "id": "14544342",
   "metadata": {},
   "outputs": [
    {
     "name": "stdout",
     "output_type": "stream",
     "text": [
      "   Depth_ft  GR_API  RT_ohm_m\n",
      "0      1000      80        20\n",
      "1      1010      75        25\n",
      "2      1020      78        22\n",
      "3      1030      82        19\n",
      "4      1040      77        23\n"
     ]
    }
   ],
   "source": [
    "Well_log = pd.DataFrame(data)\n",
    "print(Well_log)"
   ]
  },
  {
   "cell_type": "code",
   "execution_count": null,
   "id": "3ea126a8",
   "metadata": {},
   "outputs": [
    {
     "name": "stdout",
     "output_type": "stream",
     "text": [
      "The mean GR is 78.4 and mean RT is 21.8 m\n"
     ]
    }
   ],
   "source": [
    "media_GR = Well_log['GR_API'].mean()\n",
    "media_RT = Well_log['RT_ohm_m'].mean()\n",
    "print(f'The mean GR is {media_GR} and mean RT is {media_RT} m')"
   ]
  },
  {
   "cell_type": "code",
   "execution_count": 183,
   "id": "8b455cf6",
   "metadata": {},
   "outputs": [
    {
     "name": "stdout",
     "output_type": "stream",
     "text": [
      "   Depth_ft  GR_API  RT_ohm_m  Lithology\n",
      "0      1000      80        20      Shale\n",
      "1      1010      75        25  Sandstone\n",
      "2      1020      78        22  Sandstone\n",
      "3      1030      82        19      Shale\n",
      "4      1040      77        23  Sandstone\n"
     ]
    }
   ],
   "source": [
    "Lithology = []\n",
    "for i in Well_log['GR_API']:\n",
    "    if i < 80:\n",
    "        Lithology.append ('Sandstone')\n",
    "\n",
    "    else: \n",
    "        Lithology.append ('Shale') \n",
    "\n",
    "Well_log['Lithology'] = Lithology\n",
    "print(Well_log)"
   ]
  },
  {
   "cell_type": "code",
   "execution_count": 190,
   "id": "87e82c60",
   "metadata": {},
   "outputs": [
    {
     "name": "stdout",
     "output_type": "stream",
     "text": [
      "   Depth_ft  GR_API  RT_ohm_m  Lithology\n",
      "0      1000      80        20      Shale\n",
      "1      1010      75        25  Sandstone\n",
      "2      1020      78        22  Sandstone\n",
      "3      1030      82        19      Shale\n",
      "4      1040      77        23  Sandstone\n"
     ]
    }
   ],
   "source": [
    "Well_log['Lithology'] = np.where(Well_log['GR_API']<80,'Sandstone', 'Shale' )\n",
    "print(Well_log)"
   ]
  },
  {
   "cell_type": "markdown",
   "id": "baf88429",
   "metadata": {},
   "source": [
    "# 8) Matplotlib - Plot Production Profile:"
   ]
  },
  {
   "cell_type": "markdown",
   "id": "87bef3eb",
   "metadata": {},
   "source": [
    "Matplotlib - Plot Production Profile:\n",
    " days = [1, 2, 3, 4, 5, 6, 7]\n",
    " production = [1050, 980, 1025, 1100, 975, 990, 1005]\n",
    " - Plot line chart with labels and title.\n",
    " - Highlight the highest production day.\n"
   ]
  },
  {
   "cell_type": "code",
   "execution_count": 3,
   "id": "fdd5c4fc",
   "metadata": {},
   "outputs": [
    {
     "name": "stdout",
     "output_type": "stream",
     "text": [
      "Requirement already satisfied: matplotlib in c:\\users\\edison\\anaconda3\\envs\\mlops11\\lib\\site-packages (3.7.5)\n",
      "Requirement already satisfied: contourpy>=1.0.1 in c:\\users\\edison\\anaconda3\\envs\\mlops11\\lib\\site-packages (from matplotlib) (1.3.1)\n",
      "Requirement already satisfied: cycler>=0.10 in c:\\users\\edison\\anaconda3\\envs\\mlops11\\lib\\site-packages (from matplotlib) (0.12.1)\n",
      "Requirement already satisfied: fonttools>=4.22.0 in c:\\users\\edison\\anaconda3\\envs\\mlops11\\lib\\site-packages (from matplotlib) (4.56.0)\n",
      "Requirement already satisfied: kiwisolver>=1.0.1 in c:\\users\\edison\\anaconda3\\envs\\mlops11\\lib\\site-packages (from matplotlib) (1.4.8)\n",
      "Requirement already satisfied: numpy<2,>=1.20 in c:\\users\\edison\\anaconda3\\envs\\mlops11\\lib\\site-packages (from matplotlib) (1.26.4)\n",
      "Requirement already satisfied: packaging>=20.0 in c:\\users\\edison\\anaconda3\\envs\\mlops11\\lib\\site-packages (from matplotlib) (24.2)\n",
      "Requirement already satisfied: pillow>=6.2.0 in c:\\users\\edison\\anaconda3\\envs\\mlops11\\lib\\site-packages (from matplotlib) (11.1.0)\n",
      "Requirement already satisfied: pyparsing>=2.3.1 in c:\\users\\edison\\anaconda3\\envs\\mlops11\\lib\\site-packages (from matplotlib) (3.2.1)\n",
      "Requirement already satisfied: python-dateutil>=2.7 in c:\\users\\edison\\anaconda3\\envs\\mlops11\\lib\\site-packages (from matplotlib) (2.9.0.post0)\n",
      "Requirement already satisfied: six>=1.5 in c:\\users\\edison\\anaconda3\\envs\\mlops11\\lib\\site-packages (from python-dateutil>=2.7->matplotlib) (1.17.0)\n",
      "Note: you may need to restart the kernel to use updated packages.\n"
     ]
    }
   ],
   "source": [
    "%pip install matplotlib"
   ]
  },
  {
   "cell_type": "code",
   "execution_count": 4,
   "id": "07cb40b0",
   "metadata": {},
   "outputs": [],
   "source": [
    "import matplotlib.pyplot as plt"
   ]
  },
  {
   "cell_type": "code",
   "execution_count": 5,
   "id": "9c2ecbcf",
   "metadata": {},
   "outputs": [],
   "source": [
    "days = [1, 2, 3, 4, 5, 6, 7]\n",
    "production = [1050, 980, 1025, 1100, 975, 990, 1005]"
   ]
  },
  {
   "cell_type": "code",
   "execution_count": 6,
   "id": "689697f9",
   "metadata": {},
   "outputs": [
    {
     "name": "stderr",
     "output_type": "stream",
     "text": [
      "No artists with labels found to put in legend.  Note that artists whose label start with an underscore are ignored when legend() is called with no argument.\n"
     ]
    },
    {
     "data": {
      "text/plain": [
       "<function matplotlib.pyplot.show(close=None, block=None)>"
      ]
     },
     "execution_count": 6,
     "metadata": {},
     "output_type": "execute_result"
    },
    {
     "data": {
      "image/png": "[encoded data removed]",
      "text/plain": [
       "<Figure size 640x480 with 1 Axes>"
      ]
     },
     "metadata": {},
     "output_type": "display_data"
    }
   ],
   "source": [
    "plt.plot(days, production)\n",
    "plt.xlabel('Day')\n",
    "plt.ylabel('Production (bbl)')\n",
    "plt.title('Production Profile Over 7 Days')\n",
    "plt.legend()\n",
    "plt.grid(True)\n",
    "plt.show"
   ]
  },
  {
   "cell_type": "code",
   "execution_count": 7,
   "id": "4f6ce062",
   "metadata": {},
   "outputs": [
    {
     "name": "stdout",
     "output_type": "stream",
     "text": [
      "The maximum production was on the day 4 and the production was 1100 bpd\n"
     ]
    },
    {
     "data": {
      "text/plain": [
       "<function matplotlib.pyplot.show(close=None, block=None)>"
      ]
     },
     "execution_count": 7,
     "metadata": {},
     "output_type": "execute_result"
    },
    {
     "data": {
      "image/png": "[encoded data removed]",
      "text/plain": [
       "<Figure size 640x480 with 1 Axes>"
      ]
     },
     "metadata": {},
     "output_type": "display_data"
    }
   ],
   "source": [
    "max_produc= max(production)\n",
    "max_day = days[production.index(max_produc)]\n",
    "print(f'The maximum production was on the day {max_day} and the production was {max_produc} bpd')\n",
    "plt.plot(days, production)\n",
    "plt.plot(max_day, max_produc, color= 'red',marker= 'o', markersize='10')\n",
    "plt.grid(True)\n",
    "plt.show"
   ]
  },
  {
   "cell_type": "markdown",
   "id": "c3d380e4",
   "metadata": {},
   "source": []
  }
 ],
 "metadata": {
  "kernelspec": {
   "display_name": "MLOps11",
   "language": "python",
   "name": "python3"
  },
  "language_info": {
   "codemirror_mode": {
    "name": "ipython",
    "version": 3
   },
   "file_extension": ".py",
   "mimetype": "text/x-python",
   "name": "python",
   "nbconvert_exporter": "python",
   "pygments_lexer": "ipython3",
   "version": "3.10.16"
  }
 },
 "nbformat": 4,
 "nbformat_minor": 5
}
